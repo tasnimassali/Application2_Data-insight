{
 "cells": [
  {
   "cell_type": "code",
   "execution_count": 14,
   "metadata": {},
   "outputs": [
    {
     "name": "stdout",
     "output_type": "stream",
     "text": [
      "Enter number of elements : 5\n",
      "11\n",
      "3\n",
      "7\n",
      "5\n",
      "2\n",
      "the list \n",
      "[11, 3, 7, 5, 2]\n",
      "sorted list\n",
      "[2, 3, 5, 7, 11]\n"
     ]
    }
   ],
   "source": [
    "#define the list\n",
    "# creating an empty list\n",
    "numbers = []\n",
    " \n",
    "# number of elements as input\n",
    "n = int(input(\"Enter number of elements : \"))\n",
    " \n",
    "# iterating till the range\n",
    "for i in range(0, n):\n",
    "    ele = int(input())\n",
    " \n",
    "    numbers.append(ele) # adding the element\n",
    "    \n",
    "#numbers = [11, 3, 7, 5, 2]\n",
    "print(\"the list \")\n",
    "print(numbers)\n",
    "# sort the list\n",
    "numbers.sort()\n",
    "number2 = numbers\n",
    "#print the sorted list\n",
    "print(\"sorted list\")\n",
    "print(number2)\n",
    "\n"
   ]
  },
  {
   "cell_type": "code",
   "execution_count": null,
   "metadata": {},
   "outputs": [],
   "source": []
  },
  {
   "cell_type": "code",
   "execution_count": null,
   "metadata": {},
   "outputs": [],
   "source": []
  }
 ],
 "metadata": {
  "kernelspec": {
   "display_name": "Python 3",
   "language": "python",
   "name": "python3"
  },
  "language_info": {
   "codemirror_mode": {
    "name": "ipython",
    "version": 3
   },
   "file_extension": ".py",
   "mimetype": "text/x-python",
   "name": "python",
   "nbconvert_exporter": "python",
   "pygments_lexer": "ipython3",
   "version": "3.7.2"
  }
 },
 "nbformat": 4,
 "nbformat_minor": 2
}
